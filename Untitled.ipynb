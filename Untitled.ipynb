{
 "cells": [
  {
   "cell_type": "code",
   "execution_count": 1,
   "id": "9b1802de",
   "metadata": {},
   "outputs": [],
   "source": [
    "my_dict = {'sumit':'1', 'Dev':'2', 'guru':'3'} "
   ]
  },
  {
   "cell_type": "code",
   "execution_count": 3,
   "id": "9e945cdf",
   "metadata": {},
   "outputs": [
    {
     "data": {
      "text/plain": [
       "'1'"
      ]
     },
     "execution_count": 3,
     "metadata": {},
     "output_type": "execute_result"
    }
   ],
   "source": [
    "my_dict['sumit']"
   ]
  },
  {
   "cell_type": "code",
   "execution_count": 5,
   "id": "8929f3f2",
   "metadata": {},
   "outputs": [
    {
     "data": {
      "text/plain": [
       "'3'"
      ]
     },
     "execution_count": 5,
     "metadata": {},
     "output_type": "execute_result"
    }
   ],
   "source": [
    "my_dict['guru']"
   ]
  },
  {
   "cell_type": "code",
   "execution_count": 6,
   "id": "2ec89e24",
   "metadata": {},
   "outputs": [],
   "source": [
    "d = {'k':'1', 'k2':[1,2,3],'k3':{'insidekey': 1}}\n"
   ]
  },
  {
   "cell_type": "code",
   "execution_count": 7,
   "id": "7dfe8d28",
   "metadata": {},
   "outputs": [
    {
     "data": {
      "text/plain": [
       "'1'"
      ]
     },
     "execution_count": 7,
     "metadata": {},
     "output_type": "execute_result"
    }
   ],
   "source": [
    "d['k']"
   ]
  },
  {
   "cell_type": "code",
   "execution_count": 9,
   "id": "393dae80",
   "metadata": {},
   "outputs": [
    {
     "data": {
      "text/plain": [
       "3"
      ]
     },
     "execution_count": 9,
     "metadata": {},
     "output_type": "execute_result"
    }
   ],
   "source": [
    "d['k2'][2]"
   ]
  },
  {
   "cell_type": "code",
   "execution_count": 11,
   "id": "aba5db44",
   "metadata": {},
   "outputs": [
    {
     "data": {
      "text/plain": [
       "1"
      ]
     },
     "execution_count": 11,
     "metadata": {},
     "output_type": "execute_result"
    }
   ],
   "source": [
    "d['k3']['insidekey']"
   ]
  },
  {
   "cell_type": "code",
   "execution_count": null,
   "id": "93fe069a",
   "metadata": {},
   "outputs": [],
   "source": []
  }
 ],
 "metadata": {
  "kernelspec": {
   "display_name": "Python 3 (ipykernel)",
   "language": "python",
   "name": "python3"
  },
  "language_info": {
   "codemirror_mode": {
    "name": "ipython",
    "version": 3
   },
   "file_extension": ".py",
   "mimetype": "text/x-python",
   "name": "python",
   "nbconvert_exporter": "python",
   "pygments_lexer": "ipython3",
   "version": "3.11.5"
  }
 },
 "nbformat": 4,
 "nbformat_minor": 5
}
